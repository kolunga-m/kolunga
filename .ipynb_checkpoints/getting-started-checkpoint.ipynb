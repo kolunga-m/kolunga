{
 "cells": [
  {
   "cell_type": "markdown",
   "metadata": {},
   "source": [
    "![Callysto.ca Banner](https://github.com/callysto/curriculum-notebooks/blob/master/callysto-notebook-banner-top.jpg?raw=true)"
   ]
  },
  {
   "cell_type": "markdown",
   "metadata": {},
   "source": [
    "# Getting Started\n",
    "\n",
    "So you've logged in to (https://hub.callysto.ca), now what?\n",
    "\n",
    "If you've used Jupyter notebooks before, feel free to do it yourself, but if not, let's go! For easy reference, you can find the same resources on our [Get Started](https://callysto.ca/get-started/) webpage for using Callysto in your classroom."
   ]
  },
  {
   "cell_type": "markdown",
   "metadata": {},
   "source": [
    "\n",
    "## Required Materials  \n",
    "\n",
    "* Computer or Chromebook (tablets will also work, but not as well).\n",
    "* Internet access (most browsers will work but we recommend Chrome and Firefox).\n",
    "\n",
    "## Preparation\n",
    "\n",
    "* Start by doing the [Callysto Jupyter and Python basics notebook](http://tinyurl.com/y4aqn5hr). There are three notebooks in the series; start with part 1 or watch the [videos](https://www.youtube.com/playlist?list=PL-j7ku2URmjZ1F3-9jvBuvsf0KcWPsxab) to get an overview of how things work.  \n",
    "\n",
    "## Next Steps\n",
    "\n",
    "* Find a [Callysto learning module](https://callysto.ca/learning_modules/) that interests you. Clicking on the link should open a new tab and take you back to the Callysto Hub. \n",
    "* Visit [callysto.ca](https://callysto.ca) or contact us (contact@callysto.ca) if you want to learn more."
   ]
  },
  {
   "cell_type": "markdown",
   "metadata": {},
   "source": [
    "[![Callysto.ca License](https://github.com/callysto/curriculum-notebooks/blob/master/callysto-notebook-banner-bottom.jpg?raw=true)](https://github.com/callysto/curriculum-notebooks/blob/master/LICENSE.md)"
   ]
  }
 ],
 "metadata": {
  "kernelspec": {
   "display_name": "Python 3 (ipykernel)",
   "language": "python",
   "name": "python3"
  },
  "language_info": {
   "codemirror_mode": {
    "name": "ipython",
    "version": 3
   },
   "file_extension": ".py",
   "mimetype": "text/x-python",
   "name": "python",
   "nbconvert_exporter": "python",
   "pygments_lexer": "ipython3",
   "version": "3.10.8"
  },
  "nbTranslate": {
   "displayLangs": [
    "*"
   ],
   "hotkey": "alt-t",
   "langInMainMenu": true,
   "sourceLang": "en",
   "targetLang": "fr",
   "useGoogleTranslate": true
  }
 },
 "nbformat": 4,
 "nbformat_minor": 2
}
