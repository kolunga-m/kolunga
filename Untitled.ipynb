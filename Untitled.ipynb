{
 "cells": [
  {
   "cell_type": "markdown",
   "id": "c62932a2",
   "metadata": {},
   "source": [
    "# <center><font size=50>Normalized Difference Water Index</font><center>\n",
    "# <center><font size=50>For Flood Monitoring</font><center>\n",
    "<img src=\"./Copernicus_Sentinel-1_maps_Bangladesh_flood.gif\"\n",
    "     width=\"500\" \n",
    "     align=\"center\" />"
   ]
  },
  {
   "cell_type": "markdown",
   "id": "b5f6906e",
   "metadata": {},
   "source": [
    "## Outline\n",
    "    \n",
    "    1. Introduction\n",
    "    2. Tools used for NDWI\n",
    "    3. Steps of processing with ArcGIS and QGis\n",
    "    4. Results\n",
    "    5. Concusion"
   ]
  },
  {
   "cell_type": "markdown",
   "id": "454d2d93",
   "metadata": {},
   "source": [
    "## Introduction\n",
    "Flood monitoring can be regarded as one of the vital aspects of distater management and remote sensing techniques have made gathering of data much easier than insitu observations. As floods are just one of the many occuring natural distasters, their occurance cannot be prevented but loss of life can be prevented by such remote sensing techiques. More information about floods can be found on [here](https://www.google.com/url?sa=i&url=https%3A%2F%2Fkids.nationalgeographic.com%2Fscience%2Farticle%2Fflood&psig=AOvVaw1be5uxZf03q3fkBU0a7uzS&ust=1679145328989000&source=images&cd=vfe&ved=0CA8QjRxqFwoTCND0ufyF4_0CFQAAAAAdAAAAABAE). Freely available satellite data from satellites such as Landsat, SPOT and Sentinel can be utilized in this instance. More data about remote sensing and flood mapping can be found [here](https://doi.org/10.1016/j.rsase.2022.100697). An index known as the [NOrmalized difference Water Index](https://doi.org/10.3390/rs14236005) (NDWI) can be utilized to delineate the flooded areas which creates a distinction between the water pixels and other land features in the area for easy mapping of pixels covered with water."
   ]
  },
  {
   "cell_type": "markdown",
   "id": "5234b837",
   "metadata": {},
   "source": [
    "## Tools used to process raster data"
   ]
  },
  {
   "cell_type": "markdown",
   "id": "c040cbf6",
   "metadata": {},
   "source": [
    "<p style=\"text-align: justify;\">With high end commercial and freely available software, anybody can typically do such analysis. Commercial software such as ArcMap and matlab cab be used to work with the raster from the satellites. And i cases whether the user does not have access to such commercial software, other freely available software such as QGis aand Python can be used to process the rasters. The main method of producing such data to monitor these flooded areas makes use of the Normalized Difference vegetation Index. This reporsetory would like to stick to use of Landsat imagery to do flood monitoring using the NDWI, by using Band3 (Green) and Band5 (Near infrared).<p>"
   ]
  },
  {
   "cell_type": "markdown",
   "id": "9df39f1d",
   "metadata": {},
   "source": [
    "[<img src=\"./ArcGIS_logo.png\"\n",
    "     align=\"left\" \n",
    "     width=\"300\" />](https://www.arcgis.com/index.html)\n",
    "[<img src=\"./qgis-logo.png\"\n",
    "     align=\"right\" \n",
    "     width=\"680\" />](https://www.qgis.org/en/site/index.html)"
   ]
  },
  {
   "cell_type": "markdown",
   "id": "545b8bf8",
   "metadata": {},
   "source": [
    "## <center><font color=green, size=55,>Data sources - Landsat</font><center>\n",
    "Global freely avaialable satellite data can be retrieved from the [United States Geological Survey](https://earthexplorer.usgs.gov/) website where users can choose from Landst1 to the latest mission Landsat 9. For the calculation of the NDVI we only require the Green and Near Infrared band.\n",
    "\n",
    "## How to download the data\n",
    "To download data from the site, users have to create a free account and then choose the desiredd data sets and time perod of the data set. More details on how to create an account and download the data can be gathered from the following [Youtube video](https://www.google.com/search?q=how+to+download+landsat+data&sxsrf=AJOqlzXtHjXEki4aKFgU2bCiTm-eZQG9hA:1679058128909&source=lnms&tbm=vid&sa=X&ved=2ahUKEwiKpdL6guP9AhWscWwGHT6NA-4Q_AUoAXoECAEQAw&biw=1440&bih=749&dpr=1#fpstate=ive&vld=cid:59fbaa17,vid:UuE8tFYz6q0)"
   ]
  },
  {
   "cell_type": "markdown",
   "id": "8c93405c",
   "metadata": {},
   "source": [
    "## How to calculate NDWI in ArcGIS\n"
   ]
  },
  {
   "cell_type": "markdown",
   "id": "4e9df006",
   "metadata": {},
   "source": [
    "The following will briefly lay out the methodology of calculating the NDWI using ArcGis using the green and near infrared band. \n",
    "<img src=\"./Export Graphic.png\">The steps can be summarzed as below after adding the raster data:\n",
    "<font color=blue>[Arctool box](https://desktop.arcgis.com/en/arcmap/latest/analyze/managing-tools-and-toolboxes/using-the-arctoolbox-window.htm)----> <font color=geen> [Spatial analyst tools](https://desktop.arcgis.com/en/arcmap/latest/extensions/spatial-analyst/accessing-the-spatial-analyst-toolbox.htm)_---->_ <font color=red> [Map algebra](https://desktop.arcgis.com/en/arcmap/latest/extensions/spatial-analyst/map-algebra/what-is-map-algebra.htm)----> <font color=black> [Raster calculater](https://desktop.arcgis.com/en/arcmap/latest/tools/spatial-analyst-toolbox/raster-calculator.htm)<font>.\n",
    "The addition of the float in the formula is because the NDWI gives value between 1 and -1 and so their floating point values."
   ]
  },
  {
   "cell_type": "markdown",
   "id": "b607c3d6",
   "metadata": {},
   "source": [
    "## <center>NDWI = float(Band3 - Band5) / float(Band3 + Band5)<center>"
   ]
  },
  {
   "cell_type": "markdown",
   "id": "05d58b1f",
   "metadata": {},
   "source": [
    "## How to calculate NDWI in QGis\n",
    "The following will briefly lay out the procedure for calculating theNDWI using freely availablle QGis using the Green and Near Infrared bands.\n",
    "After adding the raster data the [Raster calculator](https://docs.qgis.org/3.22/en/docs/user_manual/working_with_raster/raster_analysis.html) can be used to do the NDWI calculationand this can be accessed from the QGis tab. Thereafter you can enter the bands to be used and the output raster location and choose the color of the output map as desired."
   ]
  },
  {
   "cell_type": "markdown",
   "id": "28482c89",
   "metadata": {},
   "source": [
    "## Generated results\n",
    "The results below show to maps of the generated NDWI from landsat 8 daya. On the left is a map generated by QGis and the blue pixels show the pixels covered by water in an area. On the left is the same data set but calculated using a commercial tool of ArcGis and both tools typically produced the same results.\n",
    "\n",
    "## Total area of flood pixels\n",
    "\n",
    "The area under inundation can be seen by overlaying the imagery from past non flooded days into the imagery of flooded days to find the total extent of the flooded areas.\n",
    "\n",
    "Another method would be to find the total area of the flooded pixels, the total number of pixels in the water area which would be derived from the raster data and these can be multiplied by the resolution of the imagery which is 30 m by 30 m for the landsat imagery. The size of the each cell can be retrieved from the raster layer properties under sourse and cell size. This can be achieved by using the Iso Cluster Unsupervised Classification provided in raster processing tools or software.\n",
    "\n",
    "## <center>_Total water area = number of water pixels_$*(30 m*30 m)$<center>"
   ]
  },
  {
   "cell_type": "markdown",
   "id": "5a723d9e",
   "metadata": {},
   "source": [
    "<img src=\"./jh.png\"\n",
    "     align=\"left\"\n",
    "     width=\"480\" />\n",
    "\n",
    "<img src='./ndwi.png'\n",
    "     align=\"right\"\n",
    "     width=\"480\"/>"
   ]
  },
  {
   "cell_type": "markdown",
   "id": "d61e8164",
   "metadata": {},
   "source": [
    "## Further reads\n",
    "\n",
    "1. Schumann, G.J.-P.; Brakenridge, G.R.; Kettner, A.J.; Kashif, R.; Niebuhr, E. Assisting Flood Disaster Response with Earth Observation Data and Products: A Critical Assessment. Remote Sens. 2018, 10, 1230.\n",
    "2. Buma, W.G.; Lee, S.-I.; Seo, J.Y. Recent Surface Water Extent of Lake Chad from Multispectral Sensors and GRACE. Sensors 2018, 18, 2082.\n",
    "3. Liu, D.; Li, Y. Extraction of Water-Body in Remote Sensing Image Based on Logic Operation. In Proceedings of the 2011 19th International Conference on Geoinformatics, Shanghai, China, 24–26 June 2011; pp. 1–4.\n",
    "4. Rokni, K.; Ahmad, A.; Selamat, A.; Hazini, S. Water Feature Extraction and Change Detection Using Multitemporal Landsat Imagery. Remote Sens. 2014, 6, 4173–4189.\n",
    "5. Ogilvie, A.; Belaud, G.; Massuel, S.; Mulligan, M.; Le Goulven, P.; Calvez, R. Surface Water Monitoring in Small Water Bodies: Potential and Limits of Multi-Sensor Landsat Time Series. Hydrol. Earth Syst. Sci. 2018, 22, 4349–4380.\n",
    "6. Asmadin; Siregar, V.P.; Sofian, I.; Jaya, I.; Wijanarto, A.B. Feature Extraction of Coastal Surface Inundation via Water Index Algorithms Using Multispectral Satellite on North Jakarta. IOP Conf. Ser. Earth Environ. Sci. 2018, 176, 12032.\n",
    "7. Ireland, G.; Volpi, M.; Petropoulos, G.P. Examining the Capability of Supervised Machine Learning Classifiers in Extracting Flooded Areas from Landsat TM Imagery: A Case Study from a Mediterranean Flood. Remote Sens. 2015, 7, 3372–3399.\n",
    "8. Memon, A.A.; Muhammad, S.; Rahman, S.; Haq, M. Flood Monitoring and Damage Assessment Using Water Indices: A Case Study of Pakistan Flood-2012. Egypt. J. Remote Sens. Space Sci. 2015, 18, 99–106.\n",
    "9. Manfreda, S.; Ben Dor, E. Unmanned Aerial Systems for Monitoring Soil, Vegetation, and Riverine Environments, Earth Observation Series, 1st ed.; Elsevier: Amsterdam, The Netherlands, 2023; ISBN 9780323852838.\n",
    "10. Manfreda, S.; McCabe, M.F.; Miller, P.E.; Lucas, R.; Madrigal, V.P.; Mallinis, G.; Dor, E.B.; Helman, D.; Estes, L.; Ciraolo, G.; et al. On the Use of Unmanned Aerial Systems for Environmental Monitoring. Remote Sens. 2018, 10, 641.\n",
    "11. Chew, C.; Reager, J.T.; Small, E. CYGNSS Data Map Flood Inundation during the 2017 Atlantic Hurricane Season. Sci. Rep. 2018, 8, 9336.\n",
    "12. Wan, W.; Liu, B.; Zeng, Z.; Chen, X.; Wu, G.; Xu, L.; Chen, X.; Hong, Y. Using CYGNSS Data to Monitor China’s Flood Inundation during Typhoon and Extreme Precipitation Events in 2017. Remote Sens. 2019, 11, 854."
   ]
  }
 ],
 "metadata": {
  "kernelspec": {
   "display_name": "Python 3 (ipykernel)",
   "language": "python",
   "name": "python3"
  },
  "language_info": {
   "codemirror_mode": {
    "name": "ipython",
    "version": 3
   },
   "file_extension": ".py",
   "mimetype": "text/x-python",
   "name": "python",
   "nbconvert_exporter": "python",
   "pygments_lexer": "ipython3",
   "version": "3.10.8"
  }
 },
 "nbformat": 4,
 "nbformat_minor": 5
}
