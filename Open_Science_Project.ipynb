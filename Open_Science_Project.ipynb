{
 "cells": [
  {
   "cell_type": "markdown",
   "id": "c62932a2",
   "metadata": {},
   "source": [
    "# <center>Documentation On Working With Normalized Difference Water Index In QGis and ArcGIS For Flood Monitoring And Its Higlights On Open And Fair Science Practices</font><center>\n",
    "\n",
    "Mdluli Kolunga Nkosinathi\n",
    "    \n",
    "[<img src=https://miro.medium.com/v2/resize:fit:828/0*5dpHfAcfShaBaMky\n",
    "    align=\"left\"\n",
    "    width=\"340\"/>](https://mybinder.org/v2/gh/kolunga-m/OSP/HEAD)"
   ]
  },
  {
   "cell_type": "markdown",
   "id": "8dd7da51",
   "metadata": {},
   "source": [
    "## Abstract\n",
    "\n",
    "Remote sensing has emerged as an  irreplaceable tool for monitoring floods and accessing their impact on the environment. One widely used technique is the Normalized Difference Water Index (NDWI) which uses satellite images to detect and quantify water bodies. This work hopes to highlight also the application of the NDWI in flood monitoring and what emaphasis have been out on open science in such a field. The NDWI utilizes the spectral characteristics of water to seperate its pixels from other land cver types by using the spectral bands and calculates the NDWI to delineates water bodies. Through the use of the NDWI, flooded areas can be identified and the extent of flooded pixels can also be estimated. the accuracy of such a method has been tested world wide by varying researchers for such an exercise. The use of NDWI for flood monitoring also lays out the principles of open science practices through transparent sharing of data, methods and results which helps incubate collaboration and reproducibility which enables researchers to validate findings, compare existing methods and easily build upon existing knowledge."
   ]
  },
  {
   "cell_type": "markdown",
   "id": "abe50fc6",
   "metadata": {},
   "source": [
    "## Open science highlights\n",
    "\n",
    "- Interoperable data and tools\n",
    "- Access to data"
   ]
  },
  {
   "cell_type": "markdown",
   "id": "b5f6906e",
   "metadata": {},
   "source": [
    "## Table Of Contant\n",
    "    \n",
    "1. [Introduction](#1.-Introduction)\n",
    "2. [Theory of NDWI](#2.-Theory-of-NDWI)\n",
    "3. [Tools used to process raster data](#3.-Tools-used-to-process-raster-data)\n",
    "4. [Satellite data sources - Landsat](#4.-Satellite-data-sources---Landsat)\n",
    "5. [Calculating NDWI in ArcGIS](#5.-Calculating-NDWI-in-ArcGIS)\n",
    "6. [Calculating NDWI in QGis](#6.-Calculating-NDWI-in-QGis)\n",
    "7. [Generated results](#7.-Generated-results)\n",
    "8. [Disussion](#8.-Discussion)\n",
    "9. [Conclusion](#9.-Conclusion)\n",
    "10. [Further reads](#10.-Further-reads)"
   ]
  },
  {
   "cell_type": "markdown",
   "id": "454d2d93",
   "metadata": {},
   "source": [
    "# 1. Introduction\n",
    "Flood monitoring can be regarded as one of the vital aspects of distater management and remote sensing techniques have made gathering of data much easier than insitu observations. As floods are just one of the many occuring natural distasters, their occurance cannot be prevented but loss of life can be prevented by such remote sensing techiques. More information about floods can be found on [here](https://www.google.com/url?sa=i&url=https%3A%2F%2Fkids.nationalgeographic.com%2Fscience%2Farticle%2Fflood&psig=AOvVaw1be5uxZf03q3fkBU0a7uzS&ust=1679145328989000&source=images&cd=vfe&ved=0CA8QjRxqFwoTCND0ufyF4_0CFQAAAAAdAAAAABAE). Freely available satellite data from satellites such as Landsat, SPOT and Sentinel can be utilized in this instance. More data about remote sensing and flood mapping can be found [here](https://doi.org/10.1016/j.rsase.2022.100697). An index known as the [Normalized difference Water Index](https://doi.org/10.3390/rs14236005) (NDWI) can be utilized to delineate the flooded areas which creates a distinction between the water pixels and other land features in the area for easy mapping of pixels covered with water (Ogilvie et al.,2018)"
   ]
  },
  {
   "cell_type": "markdown",
   "id": "fc30a81e",
   "metadata": {},
   "source": [
    "# 2. Theory of NDWI\n"
   ]
  },
  {
   "cell_type": "markdown",
   "id": "969eb0f1",
   "metadata": {},
   "source": [
    "The theoretical grounds of use of the NDWI are based on the face that the reflection from the chosen bands are significantly high enough to allow descrimination from background non water pixels. The science behind the use of the Normalized Difference Water Index (NDWI) for flood monitoring lies in its ability to exploit the spectral properties of water in satellite imagery. NDWI is based on the principle that water absorbs and scatters light differently compared to other land cover types, allowing for its differentiation and mapping.\n",
    "\n",
    "NDWI is typically calculated using the near-infrared (NIR) and green (G) bands of multispectral satellite imagery. These bands are sensitive to the reflectance characteristics of water. The formula for NDWI is as follows:\n",
    "\n",
    "<font><center>$NDWI = (NIR - G) / (NIR + G)$<font/>\n",
    "\n",
    "The resulting NDWI values range from -1 to +1, where higher positive values indicate a higher likelihood of water presence. Positive values correspond to the strong reflectance of NIR light by water and the absorption of G light. On the other hand, negative values indicate the dominance of land cover types with high reflectance in the green band. In flood monitoring, NDWI is applied to satellite imagery captured during and after flood events. By calculating NDWI values for each pixel in the imagery, areas with high positive NDWI values can be identified as potential water bodies. These areas can be further analyzed and classified to determine the extent and boundaries of the flood.\n",
    "\n",
    "NDWI is particularly effective in flood monitoring due to its sensitivity to water content and its ability to differentiate water bodies from other land cover types. It enables the detection of flooded areas, even when they are partially covered by vegetation or in urban environments. Additionally, NDWI allows for the monitoring of flood dynamics over time by comparing NDWI values from different satellite images captured during different phases of the flood event (Memon et al., 2015)."
   ]
  },
  {
   "cell_type": "markdown",
   "id": "5234b837",
   "metadata": {},
   "source": [
    "# 3. Tools used to process raster data\n",
    "\n",
    "1. [ArcGIS](https://www.arcgis.com/index.html)\n",
    "\n",
    "2. [QGIS](https://qgis.org/en/site/)"
   ]
  },
  {
   "cell_type": "markdown",
   "id": "c040cbf6",
   "metadata": {},
   "source": [
    "<p style=\"text-align: justify;\">With high end commercial and freely available software, anybody can typically do such analysis. Commercial software such as ArcMap and matlab cab be used to work with the raster from the satellites. And i cases whether the user does not have access to such commercial software, other freely available software such as QGis aand Python can be used to process the rasters. The main method of producing such data to monitor these flooded areas makes use of the Normalized Difference vegetation Index. This reporsetory would like to stick to use of Landsat imagery to do flood monitoring using the NDWI, by using Band3 (Green) and Band5 (Near infrared).<p>"
   ]
  },
  {
   "cell_type": "markdown",
   "id": "9df39f1d",
   "metadata": {},
   "source": [
    "[<img src=https://upload.wikimedia.org/wikipedia/commons/d/df/ArcGIS_logo.png\n",
    "     align=\"left\"\n",
    "     width=\"340\"/>](https://www.arcgis.com/index.html)\n",
    "\n",
    "[<img src=https://qgis.org/id/_images/main_logo.png\n",
    "     align=\"right\"\n",
    "     width=\"580\" />](https://qgis.org/en/site/)"
   ]
  },
  {
   "cell_type": "markdown",
   "id": "545b8bf8",
   "metadata": {},
   "source": [
    "# 4. Satellite data sources - Landsat\n",
    "Global freely avaialable satellite data can be retrieved from the [United States Geological Survey](https://earthexplorer.usgs.gov/) website where users can choose from Landst1 to the latest mission Landsat 9. For the calculation of the NDVI we only require the Green and Near Infrared band.\n",
    "\n",
    "Access to data\n",
    "    \n",
    "    \n",
    "## 4.1 Downloading from USGS website\n",
    "To download data from the site, users have to create a free account and then choose the desiredd data sets and time perod of the data set. More details on how to create an account and download the data can be gathered from the following [Youtube video](https://www.google.com/search?q=how+to+download+landsat+data&sxsrf=AJOqlzXtHjXEki4aKFgU2bCiTm-eZQG9hA:1679058128909&source=lnms&tbm=vid&sa=X&ved=2ahUKEwiKpdL6guP9AhWscWwGHT6NA-4Q_AUoAXoECAEQAw&biw=1440&bih=749&dpr=1#fpstate=ive&vld=cid:59fbaa17,vid:UuE8tFYz6q0)\n",
    "    \n",
    "## 4.2 Use of Amazon web services\n",
    "\n",
    "Depending on the satellite data used, [amazon web services](https://aws.amazon.com/) can be used to enable cloud access of the satellite imagery without the need for users to actually download the dat into their computers which enables easier access from any internet connected device from anywhere. Unfortunetely for landsat imagery, such services require access by payment from the amazon web services, but for other satellite data like sentinel 1, such data can be access without payment or user login (Amazon web services, 2023)\n",
    "\n",
    "The below list shows some of the satellite data which is freely available from designated sites:\n",
    "\n",
    "1. [All Landsat missions](https://earthexplorer.usgs.gov/)\n",
    "2. [Sentinel 1](https://sentinels.copernicus.eu/web/sentinel/missions/sentinel-1)\n",
    "3. [NOAA GOES 16, 17 and 18](https://www.goes.noaa.gov/)\n",
    "4. [Sentinel 2](https://sentinels.copernicus.eu/web/sentinel/missions/sentinel-2)\n",
    "\n",
    "The below will be some of those which can also be accessed through the cloud from Amazon Web Services;\n",
    "\n",
    "1. [Landsat Collection 2 Level 2](https://registry.opendata.aws/deafrica-landsat/)\n",
    "2. [Sentinel-1 dataset for South and Southeast Asia, Taiwan, Korea and Japan](https://registry.opendata.aws/sentinel-1/)\n",
    "3. [Sentinel-2](https://registry.opendata.aws/sentinel-2/)\n",
    "4. [NOAA GOES 16, 17 and 18](https://registry.opendata.aws/noaa-goes/)\n",
    "5. [Sentinel-2 and Cloud-Optimized Geo TIFFs](https://registry.opendata.aws/sentinel-2-l2a-cogs/)"
   ]
  },
  {
   "cell_type": "markdown",
   "id": "863801b0",
   "metadata": {},
   "source": [
    "## 4.3 More access to geographic data\n",
    "\n",
    "Users can make use of freely available earth imagery to get a closer view of study areas they may choose to study for flooding using google earth platform. Once users have geographic coordinates of the places they seek to study, they can enter their central coordinates to get access to a satellite view of that particular study area. Users can resort to free [Google earth](https://earth.google.com/web/@-14.62215403,40.72239142,-905.7062883a,22253247.99192051d,35y,360h,0t,0r) services to get a better view with much more options and more tools"
   ]
  },
  {
   "cell_type": "markdown",
   "id": "8c93405c",
   "metadata": {},
   "source": [
    "# 5. Calculating NDWI in ArcGIS\n"
   ]
  },
  {
   "cell_type": "markdown",
   "id": "4e9df006",
   "metadata": {},
   "source": [
    "The following will briefly lay out the methodology of calculating the NDWI using ArcGis using the green and near infrared band. \n",
    "<img src=\"./images/Export Graphic.png\"\n",
    "     width=\"400\"\n",
    "     />\n",
    "The steps can be summarized as below after adding the raster data:\n",
    "\n",
    "1. <font color=blue>[Arctool box](https://desktop.arcgis.com/en/arcmap/latest/analyze/managing-tools-and-toolboxes/using-the-arctoolbox-window.htm)\n",
    "    \n",
    "2. <font color=geen> [Spatial analyst tools](https://desktop.arcgis.com/en/arcmap/latest/extensions/spatial-analyst/accessing-the-spatial-analyst-toolbox.htm)\n",
    "    \n",
    "3. <font color=red> [Map algebra](https://desktop.arcgis.com/en/arcmap/latest/extensions/spatial-analyst/map-algebra/what-is-map-algebra.htm)\n",
    "    \n",
    "4. <font color=black> [Raster calculater](https://desktop.arcgis.com/en/arcmap/latest/tools/spatial-analyst-toolbox/raster-calculator.htm)<font>\n",
    "\n",
    "The addition of the float in the formula is because the NDWI gives value between 1 and -1 and so their floating point values."
   ]
  },
  {
   "cell_type": "markdown",
   "id": "b607c3d6",
   "metadata": {},
   "source": [
    "## <center>$NDWI = float(Band3 - Band5) / float(Band3 + Band5)$<center>"
   ]
  },
  {
   "cell_type": "markdown",
   "id": "05d58b1f",
   "metadata": {},
   "source": [
    "# 6. Calculating NDWI in QGis\n",
    "The following will briefly lay out the procedure for calculating theNDWI using freely availablle QGis using the Green and Near Infrared bands.\n",
    "After adding the raster data the [Raster calculator](https://docs.qgis.org/3.22/en/docs/user_manual/working_with_raster/raster_analysis.html) can be used to do the NDWI calculationand this can be accessed from the QGis tab. Thereafter you can enter the bands to be used and the output raster location and choose the color of the output map as desired."
   ]
  },
  {
   "cell_type": "markdown",
   "id": "28482c89",
   "metadata": {},
   "source": [
    "# 7. Generated results\n",
    "\n",
    "The data set use for the analysis was from a flood event in Sri Lanka on 18 May 2016 as captured by the Landsat 8 satellite on the same date mentined. The Landsat data used is is as below, for before and after flood event:\n",
    "\n",
    "1. LC08_L1TP_141055_20160502_20200907_02_T1\n",
    "2. LC08_L1TP_141055_20160518_20200907_02_T1\n",
    "\n",
    "\n",
    "\n",
    "The results below show the maps of the generated NDWI from landsat 8 data. The first row of image resultswill be those generated by QGis. the details of the color classes are described below the maps. On the second row is the same data set but calculated using a commercial tool of ArcGis. As can be seen from the maps generated, the same results could be derived from both free and open QGis and commercial ArcGIS and these would show some of the high standards that open tools have and can peform as mush as commercial tools. In order to show a better result of the inundated pixels, the exercise chose to classify the pixels for better understation using same number of classes for both ArcGIS and QGis results."
   ]
  },
  {
   "cell_type": "markdown",
   "id": "0e1b2778",
   "metadata": {},
   "source": [
    "## Results from ArcGIS"
   ]
  },
  {
   "cell_type": "markdown",
   "id": "5a723d9e",
   "metadata": {},
   "source": [
    "<img src=\"./images/before_flood_ArcGIS.png\"\n",
    "     align=\"left\"\n",
    "     width=\"250\" />\n",
    "<img src='./images/after_flood_ArcGIS.png'\n",
    "     align=\"right\"\n",
    "     width=\"250\" />\n",
    "<img src='./images/before_and_after_flood_overlay.png'\n",
    "     align=\"center\"\n",
    "     width=\"250\" />"
   ]
  },
  {
   "cell_type": "markdown",
   "id": "3077ef75",
   "metadata": {},
   "source": [
    "<img src=\"./images/legend3.png\"\n",
    "     align=\"left\"\n",
    "     width=\"200\" />"
   ]
  },
  {
   "cell_type": "markdown",
   "id": "3cd4748b",
   "metadata": {},
   "source": [
    "## Results from QGIS"
   ]
  },
  {
   "cell_type": "markdown",
   "id": "5720577e",
   "metadata": {},
   "source": [
    "<img src=\"./images/before_flood_QGIS.png\"\n",
    "     align=\"left\"\n",
    "     width=\"250\" />\n",
    "<img src=\"./images/after_flood_QGIS.png\"\n",
    "     align=\"right\"\n",
    "     width=\"250\" />\n",
    "<img src=\"./images/before_and_after_flood_overlay_QGIS.png\"\n",
    "     align=\"center\"\n",
    "     width=\"250\" />"
   ]
  },
  {
   "cell_type": "markdown",
   "id": "fd1499be",
   "metadata": {},
   "source": [
    "<img src=\"./images/legend3.png\"\n",
    "     align=\"left\"\n",
    "     width=\"200\" />"
   ]
  },
  {
   "cell_type": "markdown",
   "id": "9b5fd20d",
   "metadata": {},
   "source": [
    "## Total area of flood pixels\n",
    "\n",
    "The area under inundation can be seen by overlaying the imagery from past non flooded days into the imagery of flooded days to find the total extent of the flooded areas.\n",
    "\n",
    "Another method would be to find the total area of the flooded pixels, the total number of pixels in the water area which would be derived from the raster data and these can be multiplied by the resolution of the imagery which is 30 m by 30 m for the landsat imagery. The size of the each cell can be retrieved from the raster layer properties under sourse and cell size. This can be achieved by using the Iso Cluster Unsupervised Classification provided in raster processing tools or software.\n",
    "\n",
    "## <center>$Total$ $water$ $area$ $=$ $number$ $of$ $water$ $pixels$$*(30 m*30 m)$<center>"
   ]
  },
  {
   "cell_type": "markdown",
   "id": "27f096ad",
   "metadata": {},
   "source": [
    "# 8. Discussion\n",
    "\n",
    "The NDWI is a widely used remote sensing index for flood events. NDWI leverages the spectral characteristics of water in near-infrared (NIR) and green (G) bands to differentiate water from other land cover types. By quantifying the water content in an area, the NDWI can provide valuable insights into the extent and dynamics of floods.\n",
    "\n",
    "One of the significant advantages of NDWI is its ability to utilize freely available Landsat satellite data, which has been made accessible through open science practices. Landsat satellites provide consistent and high-quality multispectral imagery, allowing for long-term monitoring and analysis of flood events. Open science practices, such as data sharing and open-source software, have facilitated the widespread adoption of NDWI and enhanced collaboration among researchers and practitioners (Zheng et al., 2015)\n",
    "\n",
    "The use of NDWI in flood monitoring offers several benefits. First, it enables the identification and delineation of water bodies, aiding in flood extent mapping and flood risk assessment. The index can be applied to multiple satellite images captured over time to monitor the progression of flood events and assess changes in water levels. This information is crucial for disaster management and emergency response planning.\n",
    "\n",
    "Furthermore, the use of open science practices for Landsat data promotes transparency and reproducibility. Researchers can freely access and analyze Landsat data, ensuring the transparency of data sources and methodologies. Open-source software, such as QGIS or commercial ones like ArcGIS, provides powerful tools for processing and analyzing large-scale satellite imagery, making it accessible to a broader community of users."
   ]
  },
  {
   "cell_type": "markdown",
   "id": "31193505",
   "metadata": {},
   "source": [
    "# 9. Conclusion\n",
    "\n",
    "\n",
    "In conclusion, NDWI, coupled with open science practices for Landsat data, plays a vital role in flood monitoring. It enables accurate and timely assessment of flood events, supports decision-making processes, and fosters collaboration among researchers and stakeholders. The use of NDWI and open science practices contributes to more effective and informed flood management strategies, enhancing our understanding of these natural disasters and facilitating resilience in flood-prone regions. Ultimately, the use of NDWI from Landsat 8 within the framework of open science principles provides a robust foundation for evidence-based decision making, sustainable water management practices, and informed policy development. It enables a broader community of researchers, policymakers, and stakeholders to actively engage in water resource studies and collectively work towards the preservation and sustainable use of water resources."
   ]
  },
  {
   "cell_type": "markdown",
   "id": "c9caa5cd",
   "metadata": {},
   "source": [
    "# 10. References and further reads\n",
    "\n"
   ]
  },
  {
   "cell_type": "markdown",
   "id": "a97412fa",
   "metadata": {},
   "source": [
    "1. Gorelick, N.; Hancher, M.; Dixon, M.; Ilyushchenko, S.; Thau, D.; Moore, R. Google Earth Engine: Planetary-Scale Geospatial\n",
    "Analysis for Everyone. Remote Sens. Environ. 2017, 202, 18–27.\n",
    "2. Hardy, A.; Oakes, G.; Ettritch, G. Tropical Wetland (TropWet) Mapping Tool: The Automatic Detection of Open and Vegetated\n",
    "Waterbodies in Google Earth Engine for Tropical Wetlands. Remote Sens. 2020, 12, 1182.\n",
    "3. Inman, V.L.; Lyons, M.B. Automated Inundation Mapping over Large Areas Using Landsat Data and Google Earth Engine.\n",
    "Remote Sens. 2020, 12, 1348.\n",
    "4. Li, J.; Tooth, S.; Zhang, K.; Zhao, Y. Visualisation of Flooding along an Unvegetated, Ephemeral River Using Google Earth Engine: Implications for Assessment of Channel-Floodplain Dynamics in a Time of Rapid Environmental Change. J. Environ. Manag.\n",
    "2021, 278, 111559.\n",
    "4. Huang, C.; Chen, Y.; Zhang, S.; Li, L.; Shi, K.; Liu, R. Surface water mapping from suomi NPP-VIIRS imagery at 30 m resolution via blending with Landsat data. Remote Sens. 2016, 8.\n",
    "5. Laben, C.A.; Brower, B.V. Process for Enhancing the Spatial Resolution of Multispectral Imagery using PanSharpening. Available online: http://www.google.com/patents/US6011875 (accessed on 1 June 2023).\n",
    "6. eCognition Developer 9. Available online: http://www.ecognition.com/suite/ecognition-developer (accessed on 12 June 2017).\n",
    "7. Ji, L.; Zhang, L.; Wylie, B. Analysis of dynamic thresholds for the Normalized Difference Water Index. Photogramm. Eng. Remote Sens. 2009, 75, 1307–1317.\n",
    "8. Zheng, Y.; Jeon, B.; Xu, D.; Wu, Q.M.; Zhang, H. Image segmentation by generalized hierarchical fuzzy C-means algorithm. J. Intell. Fuzzy Syst. 2015, 28, 961–973.\n",
    "9. Sezgin, M. Survey over image thresholding techniques and quantitative performance evaluation. J. Electron. Imaging 2004, 13, 146–168.\n",
    "10. Otsu, N. A threshold selection method from gray-level histograms. Automatica 1975, 11, 23–27.\n",
    "11. Yen, J.C.; Chang, F.J.; Chang, S. A New Criterion for Automatic Multilevel Thresholding. IEEE Trans. Image Process. 1995, 4, 370–378.\n",
    "12. United States Geological Survey. Available Online: https://earthexplorer.usgs.gov/ (Accessed 25 April 2023)\n",
    "13. Schumann, G.J.-P.; Brakenridge, G.R.; Kettner, A.J.; Kashif, R.; Niebuhr, E. Assisting Flood Disaster Response with Earth Observation Data and Products: A Critical Assessment. Remote Sens. 2018, 10, 1230.\n",
    "14. Buma, W.G.; Lee, S.-I.; Seo, J.Y. Recent Surface Water Extent of Lake Chad from Multispectral Sensors and GRACE. Sensors 2018, 18, 2082.\n",
    "15. Liu, D.; Li, Y. Extraction of Water-Body in Remote Sensing Image Based on Logic Operation. In Proceedings of the 2011 19th International Conference on Geoinformatics, Shanghai, China, 24–26 June 2011; pp. 1–4.\n",
    "16. Rokni, K.; Ahmad, A.; Selamat, A.; Hazini, S. Water Feature Extraction and Change Detection Using Multitemporal Landsat Imagery. Remote Sens. 2014, 6, 4173–4189.\n",
    "17. Ogilvie, A.; Belaud, G.; Massuel, S.; Mulligan, M.; Le Goulven, P.; Calvez, R. Surface Water Monitoring in Small Water Bodies: Potential and Limits of Multi-Sensor Landsat Time Series. Hydrol. Earth Syst. Sci. 2018, 22, 4349–4380.\n",
    "18. Asmadin; Siregar, V.P.; Sofian, I.; Jaya, I.; Wijanarto, A.B. Feature Extraction of Coastal Surface Inundation via Water Index Algorithms Using Multispectral Satellite on North Jakarta. IOP Conf. Ser. Earth Environ. Sci. 2018, 176, 12032.\n",
    "19. Ireland, G.; Volpi, M.; Petropoulos, G.P. Examining the Capability of Supervised Machine Learning Classifiers in Extracting Flooded Areas from Landsat TM Imagery: A Case Study from a Mediterranean Flood. Remote Sens. 2015, 7, 3372–3399.\n",
    "20. Memon, A.A.; Muhammad, S.; Rahman, S.; Haq, M. Flood Monitoring and Damage Assessment Using Water Indices: A Case Study of Pakistan Flood-2012. Egypt. J. Remote Sens. Space Sci. 2015, 18, 99–106.\n",
    "21. Amazon web services. Available online: https://registry.opendata.aws/ (Accessed 15 May 2023)"
   ]
  }
 ],
 "metadata": {
  "kernelspec": {
   "display_name": "Python 3 (ipykernel)",
   "language": "python",
   "name": "python3"
  },
  "language_info": {
   "codemirror_mode": {
    "name": "ipython",
    "version": 3
   },
   "file_extension": ".py",
   "mimetype": "text/x-python",
   "name": "python",
   "nbconvert_exporter": "python",
   "pygments_lexer": "ipython3",
   "version": "3.10.8"
  }
 },
 "nbformat": 4,
 "nbformat_minor": 5
}
